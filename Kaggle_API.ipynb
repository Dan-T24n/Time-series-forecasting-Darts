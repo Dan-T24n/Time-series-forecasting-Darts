{
 "cells": [
  {
   "cell_type": "markdown",
   "metadata": {},
   "source": [
    "# Kaggle API Quickstart"
   ]
  },
  {
   "cell_type": "markdown",
   "metadata": {},
   "source": [
    "Resources\n",
    "- [Kaggle API Doc](https://github.com/Kaggle/kaggle-api)\n"
   ]
  },
  {
   "cell_type": "code",
   "execution_count": null,
   "metadata": {},
   "outputs": [],
   "source": [
    "# install kaggle api\n",
    "# %pip install kaggle -U"
   ]
  },
  {
   "cell_type": "code",
   "execution_count": null,
   "metadata": {},
   "outputs": [],
   "source": [
    "# import path and os\n",
    "from pathlib import Path\n",
    "import os\n",
    "\n",
    "import kaggle\n",
    "\n",
    "# check version\n",
    "!kaggle --version\n",
    "\n",
    "# !chmod 600 ~/.kaggle/kaggle.json"
   ]
  },
  {
   "cell_type": "markdown",
   "metadata": {},
   "source": [
    "## Datasets\n",
    "\n",
    "Search for datasets with `keywords` and sort by `option`\n",
    "\n",
    "```python\n",
    "!kaggle datasets list -s `keywords` --sort-by `option` \n",
    "```"
   ]
  },
  {
   "cell_type": "code",
   "execution_count": null,
   "metadata": {},
   "outputs": [],
   "source": [
    "# search datasets with a keyword 'ESG', sort by votes\n",
    "!kaggle datasets list -s 'esg' --sort-by votes\n",
    "\n",
    "print(f\"{'='*50}\\n\")\n",
    "\n",
    "# helper command\n",
    "!kaggle datasets list -h "
   ]
  },
  {
   "cell_type": "markdown",
   "metadata": {},
   "source": [
    "## Competitions\n",
    "\n",
    "Search with `keywords` and sort by `option`\n",
    "\n",
    "```python\n",
    "!kaggle competitions list -s `keywords` \n",
    "```\n",
    "---\n",
    "- `--sort-by` : ['grouped', 'prize', 'earliestDeadline', 'latestDeadline', 'numberOfTeams', and 'recentlyCreated']\n",
    "- `--group` : ['general', 'entered', and 'inClass']"
   ]
  },
  {
   "cell_type": "code",
   "execution_count": null,
   "metadata": {},
   "outputs": [],
   "source": [
    "# search competitions with 'sales' in the title\n",
    "!kaggle competitions list -s 'sales' --group 'general' --sort-by 'numberOfTeams'\n",
    "\n",
    "print(f\"{'='*50}\\n\")\n",
    "\n",
    "# helper command\n",
    "# !kaggle datasets list -h "
   ]
  },
  {
   "cell_type": "markdown",
   "metadata": {},
   "source": [
    "More commands for competitions:\n",
    "- `leaderboard`\n",
    "- `submit`\n",
    "\n",
    "```python\n",
    "!kaggle competitions leaderboard `competition-name` -s\n",
    "```\n",
    "\n",
    "- competition-name: ending part of the competition URL after the last `/`\n",
    "\n",
    "- does not work if assigned to string variable\n",
    "\n"
   ]
  },
  {
   "cell_type": "code",
   "execution_count": null,
   "metadata": {},
   "outputs": [],
   "source": [
    "# check competition leaderboard\n",
    "!kaggle competitions leaderboard store-sales-time-series-forecasting -s"
   ]
  },
  {
   "cell_type": "code",
   "execution_count": null,
   "metadata": {},
   "outputs": [],
   "source": [
    "# submit a file to a competition\n",
    "!kaggle competitions submit -h"
   ]
  },
  {
   "cell_type": "markdown",
   "metadata": {},
   "source": [
    "## Kernels\n",
    "\n",
    "Kernels: code notebooks to be run on Kaggle servers.\n",
    "\n",
    "Commands for kernels:\n",
    "- `list`    \n",
    "- `init`                \n",
    "- `push`               \n",
    "- `pull`                \n",
    "- `output`              \n",
    "- `status`              "
   ]
  },
  {
   "cell_type": "code",
   "execution_count": null,
   "metadata": {},
   "outputs": [],
   "source": [
    "# search my kernels sort by date\n",
    "!kaggle kernels list -m --sort-by dateCreated\n",
    "\n",
    "# -m : mine\n",
    "# can search by user"
   ]
  },
  {
   "cell_type": "code",
   "execution_count": null,
   "metadata": {},
   "outputs": [],
   "source": [
    "# pull a kernel: download as a notebook to a folder: will be created\n",
    "!kaggle kernels pull -w -m pandalikematcha/storesales-testing-v0 -p eda\n",
    "\n",
    "# kernel name: <owner>/<kernel-name>"
   ]
  },
  {
   "cell_type": "code",
   "execution_count": null,
   "metadata": {},
   "outputs": [],
   "source": [
    "# update a kernel using a notebook with metadata in json\n",
    "!kaggle kernels pull -h\n",
    "\n",
    "# in the folder, notebook + json are required"
   ]
  },
  {
   "cell_type": "markdown",
   "metadata": {},
   "source": [
    "When `push` a notebook to a kernel:\n",
    "\n",
    "- the notebook will run first, may take some time to finish. Then the kernel will update to a new version, if no error.\n",
    "\n",
    "- does NOT work if there's an error in the notebook\n",
    "\n",
    "- un-check packages installation when pushing to kaggle kernel\n"
   ]
  },
  {
   "cell_type": "markdown",
   "metadata": {},
   "source": [
    "# Pull data\n"
   ]
  },
  {
   "cell_type": "code",
   "execution_count": null,
   "metadata": {},
   "outputs": [],
   "source": [
    "# local data path using pathlib\n",
    "basepath = Path.cwd()\n",
    "\n",
    "# get path function, input folder name (as a list) and file name (optional), return the path\n",
    "def get_path(folder_name: list, file_name=None):\n",
    "    path = Path(basepath)\n",
    "    for folder in folder_name:\n",
    "        path = path / folder\n",
    "    if file_name:\n",
    "        path = path / file_name\n",
    "    return path\n",
    "\n",
    "\n",
    "# set data folder\n",
    "data_path = get_path(['data'])\n",
    "print(data_path)\n",
    "\n",
    "# not needed now: path handled by kaggle api"
   ]
  },
  {
   "cell_type": "code",
   "execution_count": null,
   "metadata": {},
   "outputs": [],
   "source": [
    "# download dataset from competition\n",
    "!kaggle competitions download -c store-sales-time-series-forecasting -p ./data"
   ]
  },
  {
   "cell_type": "code",
   "execution_count": null,
   "metadata": {},
   "outputs": [],
   "source": [
    "# unzip data file\n",
    "!unzip ./data/store-sales-time-series-forecasting.zip -d ./data/raw"
   ]
  }
 ],
 "metadata": {
  "kernelspec": {
   "display_name": "myenv",
   "language": "python",
   "name": "myenv"
  },
  "language_info": {
   "codemirror_mode": {
    "name": "ipython",
    "version": 3
   },
   "file_extension": ".py",
   "mimetype": "text/x-python",
   "name": "python",
   "nbconvert_exporter": "python",
   "pygments_lexer": "ipython3",
   "version": "3.8.16"
  },
  "varInspector": {
   "cols": {
    "lenName": 16,
    "lenType": 16,
    "lenVar": 40
   },
   "kernels_config": {
    "python": {
     "delete_cmd_postfix": "",
     "delete_cmd_prefix": "del ",
     "library": "var_list.py",
     "varRefreshCmd": "print(var_dic_list())"
    },
    "r": {
     "delete_cmd_postfix": ") ",
     "delete_cmd_prefix": "rm(",
     "library": "var_list.r",
     "varRefreshCmd": "cat(var_dic_list()) "
    }
   },
   "types_to_exclude": [
    "module",
    "function",
    "builtin_function_or_method",
    "instance",
    "_Feature"
   ],
   "window_display": false
  }
 },
 "nbformat": 4,
 "nbformat_minor": 2
}
